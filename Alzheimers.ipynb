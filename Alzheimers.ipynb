{
 "cells": [
  {
   "cell_type": "code",
   "execution_count": 1,
   "id": "ecc9cfb7",
   "metadata": {},
   "outputs": [],
   "source": [
    "#Installation of required libraries\n",
    "import pandas as pd\n",
    "import numpy as np\n",
    "import seaborn as sns\n",
    "import matplotlib.pyplot as plt\n",
    "import pickle\n",
    "%matplotlib inline\n",
    "\n",
    "sns.set()"
   ]
  },
  {
   "cell_type": "code",
   "execution_count": 2,
   "id": "ba6e8fd8",
   "metadata": {},
   "outputs": [
    {
     "data": {
      "text/html": [
       "<div>\n",
       "<style scoped>\n",
       "    .dataframe tbody tr th:only-of-type {\n",
       "        vertical-align: middle;\n",
       "    }\n",
       "\n",
       "    .dataframe tbody tr th {\n",
       "        vertical-align: top;\n",
       "    }\n",
       "\n",
       "    .dataframe thead th {\n",
       "        text-align: right;\n",
       "    }\n",
       "</style>\n",
       "<table border=\"1\" class=\"dataframe\">\n",
       "  <thead>\n",
       "    <tr style=\"text-align: right;\">\n",
       "      <th></th>\n",
       "      <th>Subject ID</th>\n",
       "      <th>MRI ID</th>\n",
       "      <th>Group</th>\n",
       "      <th>Visit</th>\n",
       "      <th>MR Delay</th>\n",
       "      <th>M/F</th>\n",
       "      <th>Hand</th>\n",
       "      <th>Age</th>\n",
       "      <th>EDUC</th>\n",
       "      <th>SES</th>\n",
       "      <th>MMSE</th>\n",
       "      <th>CDR</th>\n",
       "      <th>eTIV</th>\n",
       "      <th>nWBV</th>\n",
       "      <th>ASF</th>\n",
       "    </tr>\n",
       "  </thead>\n",
       "  <tbody>\n",
       "    <tr>\n",
       "      <th>0</th>\n",
       "      <td>OAS2_0001</td>\n",
       "      <td>OAS2_0001_MR1</td>\n",
       "      <td>Nondemented</td>\n",
       "      <td>1</td>\n",
       "      <td>0</td>\n",
       "      <td>M</td>\n",
       "      <td>R</td>\n",
       "      <td>87</td>\n",
       "      <td>14</td>\n",
       "      <td>2.0</td>\n",
       "      <td>27.0</td>\n",
       "      <td>0.0</td>\n",
       "      <td>1987</td>\n",
       "      <td>0.696</td>\n",
       "      <td>0.883</td>\n",
       "    </tr>\n",
       "    <tr>\n",
       "      <th>1</th>\n",
       "      <td>OAS2_0001</td>\n",
       "      <td>OAS2_0001_MR2</td>\n",
       "      <td>Nondemented</td>\n",
       "      <td>2</td>\n",
       "      <td>457</td>\n",
       "      <td>M</td>\n",
       "      <td>R</td>\n",
       "      <td>88</td>\n",
       "      <td>14</td>\n",
       "      <td>2.0</td>\n",
       "      <td>30.0</td>\n",
       "      <td>0.0</td>\n",
       "      <td>2004</td>\n",
       "      <td>0.681</td>\n",
       "      <td>0.876</td>\n",
       "    </tr>\n",
       "    <tr>\n",
       "      <th>2</th>\n",
       "      <td>OAS2_0002</td>\n",
       "      <td>OAS2_0002_MR1</td>\n",
       "      <td>Demented</td>\n",
       "      <td>1</td>\n",
       "      <td>0</td>\n",
       "      <td>M</td>\n",
       "      <td>R</td>\n",
       "      <td>75</td>\n",
       "      <td>12</td>\n",
       "      <td>NaN</td>\n",
       "      <td>23.0</td>\n",
       "      <td>0.5</td>\n",
       "      <td>1678</td>\n",
       "      <td>0.736</td>\n",
       "      <td>1.046</td>\n",
       "    </tr>\n",
       "    <tr>\n",
       "      <th>3</th>\n",
       "      <td>OAS2_0002</td>\n",
       "      <td>OAS2_0002_MR2</td>\n",
       "      <td>Demented</td>\n",
       "      <td>2</td>\n",
       "      <td>560</td>\n",
       "      <td>M</td>\n",
       "      <td>R</td>\n",
       "      <td>76</td>\n",
       "      <td>12</td>\n",
       "      <td>NaN</td>\n",
       "      <td>28.0</td>\n",
       "      <td>0.5</td>\n",
       "      <td>1738</td>\n",
       "      <td>0.713</td>\n",
       "      <td>1.010</td>\n",
       "    </tr>\n",
       "    <tr>\n",
       "      <th>4</th>\n",
       "      <td>OAS2_0002</td>\n",
       "      <td>OAS2_0002_MR3</td>\n",
       "      <td>Demented</td>\n",
       "      <td>3</td>\n",
       "      <td>1895</td>\n",
       "      <td>M</td>\n",
       "      <td>R</td>\n",
       "      <td>80</td>\n",
       "      <td>12</td>\n",
       "      <td>NaN</td>\n",
       "      <td>22.0</td>\n",
       "      <td>0.5</td>\n",
       "      <td>1698</td>\n",
       "      <td>0.701</td>\n",
       "      <td>1.034</td>\n",
       "    </tr>\n",
       "  </tbody>\n",
       "</table>\n",
       "</div>"
      ],
      "text/plain": [
       "  Subject ID         MRI ID        Group  Visit  MR Delay M/F Hand  Age  EDUC  \\\n",
       "0  OAS2_0001  OAS2_0001_MR1  Nondemented      1         0   M    R   87    14   \n",
       "1  OAS2_0001  OAS2_0001_MR2  Nondemented      2       457   M    R   88    14   \n",
       "2  OAS2_0002  OAS2_0002_MR1     Demented      1         0   M    R   75    12   \n",
       "3  OAS2_0002  OAS2_0002_MR2     Demented      2       560   M    R   76    12   \n",
       "4  OAS2_0002  OAS2_0002_MR3     Demented      3      1895   M    R   80    12   \n",
       "\n",
       "   SES  MMSE  CDR  eTIV   nWBV    ASF  \n",
       "0  2.0  27.0  0.0  1987  0.696  0.883  \n",
       "1  2.0  30.0  0.0  2004  0.681  0.876  \n",
       "2  NaN  23.0  0.5  1678  0.736  1.046  \n",
       "3  NaN  28.0  0.5  1738  0.713  1.010  \n",
       "4  NaN  22.0  0.5  1698  0.701  1.034  "
      ]
     },
     "execution_count": 2,
     "metadata": {},
     "output_type": "execute_result"
    }
   ],
   "source": [
    "#Reading the datasets\n",
    "df = pd.read_csv(\"oasis_longitudinal.csv\")\n",
    "df.head()"
   ]
  },
  {
   "cell_type": "code",
   "execution_count": 3,
   "id": "a3fb4d0b",
   "metadata": {},
   "outputs": [],
   "source": [
    "df = df.loc[df['Visit']==1] # use first visit data only because of the analysis we're doing\n",
    "df = df.reset_index(drop=True) # reset index after filtering first visit data\n",
    "df['M/F'] = df['M/F'].replace(['F','M'], [0,1]) # M/F column\n",
    "df['Group'] = df['Group'].replace(['Converted'], ['Demented']) # Target variable\n",
    "df['Group'] = df['Group'].replace(['Demented', 'Nondemented'], [1,0]) # Target variable\n",
    "df = df.drop(['MRI ID', 'Visit', 'Hand'], axis=1) # Drop unnecessary columns"
   ]
  },
  {
   "cell_type": "code",
   "execution_count": 4,
   "id": "e82114ea",
   "metadata": {},
   "outputs": [
    {
     "data": {
      "text/html": [
       "<div>\n",
       "<style scoped>\n",
       "    .dataframe tbody tr th:only-of-type {\n",
       "        vertical-align: middle;\n",
       "    }\n",
       "\n",
       "    .dataframe tbody tr th {\n",
       "        vertical-align: top;\n",
       "    }\n",
       "\n",
       "    .dataframe thead th {\n",
       "        text-align: right;\n",
       "    }\n",
       "</style>\n",
       "<table border=\"1\" class=\"dataframe\">\n",
       "  <thead>\n",
       "    <tr style=\"text-align: right;\">\n",
       "      <th></th>\n",
       "      <th>Subject ID</th>\n",
       "      <th>Group</th>\n",
       "      <th>MR Delay</th>\n",
       "      <th>M/F</th>\n",
       "      <th>Age</th>\n",
       "      <th>EDUC</th>\n",
       "      <th>SES</th>\n",
       "      <th>MMSE</th>\n",
       "      <th>CDR</th>\n",
       "      <th>eTIV</th>\n",
       "      <th>nWBV</th>\n",
       "      <th>ASF</th>\n",
       "    </tr>\n",
       "  </thead>\n",
       "  <tbody>\n",
       "    <tr>\n",
       "      <th>0</th>\n",
       "      <td>OAS2_0001</td>\n",
       "      <td>0</td>\n",
       "      <td>0</td>\n",
       "      <td>1</td>\n",
       "      <td>87</td>\n",
       "      <td>14</td>\n",
       "      <td>2.0</td>\n",
       "      <td>27.0</td>\n",
       "      <td>0.0</td>\n",
       "      <td>1987</td>\n",
       "      <td>0.696</td>\n",
       "      <td>0.883</td>\n",
       "    </tr>\n",
       "    <tr>\n",
       "      <th>1</th>\n",
       "      <td>OAS2_0002</td>\n",
       "      <td>1</td>\n",
       "      <td>0</td>\n",
       "      <td>1</td>\n",
       "      <td>75</td>\n",
       "      <td>12</td>\n",
       "      <td>NaN</td>\n",
       "      <td>23.0</td>\n",
       "      <td>0.5</td>\n",
       "      <td>1678</td>\n",
       "      <td>0.736</td>\n",
       "      <td>1.046</td>\n",
       "    </tr>\n",
       "    <tr>\n",
       "      <th>2</th>\n",
       "      <td>OAS2_0004</td>\n",
       "      <td>0</td>\n",
       "      <td>0</td>\n",
       "      <td>0</td>\n",
       "      <td>88</td>\n",
       "      <td>18</td>\n",
       "      <td>3.0</td>\n",
       "      <td>28.0</td>\n",
       "      <td>0.0</td>\n",
       "      <td>1215</td>\n",
       "      <td>0.710</td>\n",
       "      <td>1.444</td>\n",
       "    </tr>\n",
       "    <tr>\n",
       "      <th>3</th>\n",
       "      <td>OAS2_0005</td>\n",
       "      <td>0</td>\n",
       "      <td>0</td>\n",
       "      <td>1</td>\n",
       "      <td>80</td>\n",
       "      <td>12</td>\n",
       "      <td>4.0</td>\n",
       "      <td>28.0</td>\n",
       "      <td>0.0</td>\n",
       "      <td>1689</td>\n",
       "      <td>0.712</td>\n",
       "      <td>1.039</td>\n",
       "    </tr>\n",
       "    <tr>\n",
       "      <th>4</th>\n",
       "      <td>OAS2_0007</td>\n",
       "      <td>1</td>\n",
       "      <td>0</td>\n",
       "      <td>1</td>\n",
       "      <td>71</td>\n",
       "      <td>16</td>\n",
       "      <td>NaN</td>\n",
       "      <td>28.0</td>\n",
       "      <td>0.5</td>\n",
       "      <td>1357</td>\n",
       "      <td>0.748</td>\n",
       "      <td>1.293</td>\n",
       "    </tr>\n",
       "    <tr>\n",
       "      <th>...</th>\n",
       "      <td>...</td>\n",
       "      <td>...</td>\n",
       "      <td>...</td>\n",
       "      <td>...</td>\n",
       "      <td>...</td>\n",
       "      <td>...</td>\n",
       "      <td>...</td>\n",
       "      <td>...</td>\n",
       "      <td>...</td>\n",
       "      <td>...</td>\n",
       "      <td>...</td>\n",
       "      <td>...</td>\n",
       "    </tr>\n",
       "    <tr>\n",
       "      <th>145</th>\n",
       "      <td>OAS2_0182</td>\n",
       "      <td>1</td>\n",
       "      <td>0</td>\n",
       "      <td>1</td>\n",
       "      <td>73</td>\n",
       "      <td>12</td>\n",
       "      <td>NaN</td>\n",
       "      <td>23.0</td>\n",
       "      <td>0.5</td>\n",
       "      <td>1661</td>\n",
       "      <td>0.698</td>\n",
       "      <td>1.056</td>\n",
       "    </tr>\n",
       "    <tr>\n",
       "      <th>146</th>\n",
       "      <td>OAS2_0183</td>\n",
       "      <td>0</td>\n",
       "      <td>0</td>\n",
       "      <td>0</td>\n",
       "      <td>66</td>\n",
       "      <td>13</td>\n",
       "      <td>2.0</td>\n",
       "      <td>30.0</td>\n",
       "      <td>0.0</td>\n",
       "      <td>1495</td>\n",
       "      <td>0.746</td>\n",
       "      <td>1.174</td>\n",
       "    </tr>\n",
       "    <tr>\n",
       "      <th>147</th>\n",
       "      <td>OAS2_0184</td>\n",
       "      <td>1</td>\n",
       "      <td>0</td>\n",
       "      <td>0</td>\n",
       "      <td>72</td>\n",
       "      <td>16</td>\n",
       "      <td>3.0</td>\n",
       "      <td>24.0</td>\n",
       "      <td>0.5</td>\n",
       "      <td>1354</td>\n",
       "      <td>0.733</td>\n",
       "      <td>1.296</td>\n",
       "    </tr>\n",
       "    <tr>\n",
       "      <th>148</th>\n",
       "      <td>OAS2_0185</td>\n",
       "      <td>1</td>\n",
       "      <td>0</td>\n",
       "      <td>1</td>\n",
       "      <td>80</td>\n",
       "      <td>16</td>\n",
       "      <td>1.0</td>\n",
       "      <td>28.0</td>\n",
       "      <td>0.5</td>\n",
       "      <td>1704</td>\n",
       "      <td>0.711</td>\n",
       "      <td>1.030</td>\n",
       "    </tr>\n",
       "    <tr>\n",
       "      <th>149</th>\n",
       "      <td>OAS2_0186</td>\n",
       "      <td>0</td>\n",
       "      <td>0</td>\n",
       "      <td>0</td>\n",
       "      <td>61</td>\n",
       "      <td>13</td>\n",
       "      <td>2.0</td>\n",
       "      <td>30.0</td>\n",
       "      <td>0.0</td>\n",
       "      <td>1319</td>\n",
       "      <td>0.801</td>\n",
       "      <td>1.331</td>\n",
       "    </tr>\n",
       "  </tbody>\n",
       "</table>\n",
       "<p>150 rows × 12 columns</p>\n",
       "</div>"
      ],
      "text/plain": [
       "    Subject ID  Group  MR Delay  M/F  Age  EDUC  SES  MMSE  CDR  eTIV   nWBV  \\\n",
       "0    OAS2_0001      0         0    1   87    14  2.0  27.0  0.0  1987  0.696   \n",
       "1    OAS2_0002      1         0    1   75    12  NaN  23.0  0.5  1678  0.736   \n",
       "2    OAS2_0004      0         0    0   88    18  3.0  28.0  0.0  1215  0.710   \n",
       "3    OAS2_0005      0         0    1   80    12  4.0  28.0  0.0  1689  0.712   \n",
       "4    OAS2_0007      1         0    1   71    16  NaN  28.0  0.5  1357  0.748   \n",
       "..         ...    ...       ...  ...  ...   ...  ...   ...  ...   ...    ...   \n",
       "145  OAS2_0182      1         0    1   73    12  NaN  23.0  0.5  1661  0.698   \n",
       "146  OAS2_0183      0         0    0   66    13  2.0  30.0  0.0  1495  0.746   \n",
       "147  OAS2_0184      1         0    0   72    16  3.0  24.0  0.5  1354  0.733   \n",
       "148  OAS2_0185      1         0    1   80    16  1.0  28.0  0.5  1704  0.711   \n",
       "149  OAS2_0186      0         0    0   61    13  2.0  30.0  0.0  1319  0.801   \n",
       "\n",
       "       ASF  \n",
       "0    0.883  \n",
       "1    1.046  \n",
       "2    1.444  \n",
       "3    1.039  \n",
       "4    1.293  \n",
       "..     ...  \n",
       "145  1.056  \n",
       "146  1.174  \n",
       "147  1.296  \n",
       "148  1.030  \n",
       "149  1.331  \n",
       "\n",
       "[150 rows x 12 columns]"
      ]
     },
     "execution_count": 4,
     "metadata": {},
     "output_type": "execute_result"
    }
   ],
   "source": [
    "df"
   ]
  },
  {
   "cell_type": "code",
   "execution_count": 5,
   "id": "018b69c4",
   "metadata": {},
   "outputs": [],
   "source": [
    "def bar_chart(feature):\n",
    "    Demented = df[df['Group']==1][feature].value_counts()\n",
    "    Nondemented = df[df['Group']==0][feature].value_counts()\n",
    "    df_bar = pd.DataFrame([Demented,Nondemented])\n",
    "    df_bar.index = ['Demented','Nondemented']\n",
    "    df_bar.plot(kind='bar',stacked=True, figsize=(8,5))"
   ]
  },
  {
   "cell_type": "code",
   "execution_count": 6,
   "id": "372e7414",
   "metadata": {},
   "outputs": [
    {
     "data": {
      "text/plain": [
       "Text(0.5, 1.0, 'Gender and Demented rate')"
      ]
     },
     "execution_count": 6,
     "metadata": {},
     "output_type": "execute_result"
    },
    {
     "data": {
      "image/png": "[encoded data removed]",
      "text/plain": [
       "<Figure size 576x360 with 1 Axes>"
      ]
     },
     "metadata": {},
     "output_type": "display_data"
    }
   ],
   "source": [
    "# Gender  and  Group ( Female=0, Male=1)\n",
    "bar_chart('M/F')\n",
    "plt.xlabel('Group')\n",
    "plt.ylabel('Number of patients')\n",
    "plt.legend()\n",
    "plt.title('Gender and Demented rate')"
   ]
  },
  {
   "cell_type": "markdown",
   "id": "674d4ca0",
   "metadata": {},
   "source": [
    "**The above graph indicates that men are more likely with dementia than women."
   ]
  },
  {
   "cell_type": "code",
   "execution_count": 7,
   "id": "e533e995",
   "metadata": {},
   "outputs": [
    {
     "data": {
      "text/plain": [
       "(15.3, 30.0)"
      ]
     },
     "execution_count": 7,
     "metadata": {},
     "output_type": "execute_result"
    },
    {
     "data": {
      "image/png": "[encoded data removed]",
      "text/plain": [
       "<Figure size 693.725x216 with 1 Axes>"
      ]
     },
     "metadata": {},
     "output_type": "display_data"
    }
   ],
   "source": [
    "#MMSE : Mini Mental State Examination\n",
    "# Nondemented = 0, Demented =1\n",
    "# Nondemented has higher test result ranging from 25 to 30. \n",
    "#Min 17 ,MAX 30\n",
    "facet= sns.FacetGrid(df,hue=\"Group\", aspect=3)\n",
    "facet.map(sns.kdeplot,'MMSE',shade= True)\n",
    "facet.set(xlim=(0, df['MMSE'].max()))\n",
    "facet.add_legend()\n",
    "plt.xlim(15.30)"
   ]
  },
  {
   "cell_type": "markdown",
   "id": "4ae951b6",
   "metadata": {},
   "source": [
    "**The chart shows Nondemented group got much more higher MMSE scores than Demented group."
   ]
  },
  {
   "cell_type": "code",
   "execution_count": 8,
   "id": "4cdc1717",
   "metadata": {},
   "outputs": [
    {
     "data": {
      "text/plain": [
       "(0.6, 0.9)"
      ]
     },
     "execution_count": 8,
     "metadata": {},
     "output_type": "execute_result"
    },
    {
     "data": {
      "image/png": "[encoded data removed]",
      "text/plain": [
       "<Figure size 693.725x216 with 1 Axes>"
      ]
     },
     "metadata": {},
     "output_type": "display_data"
    },
    {
     "data": {
      "image/png": "[encoded data removed]",
      "text/plain": [
       "<Figure size 693.725x216 with 1 Axes>"
      ]
     },
     "metadata": {},
     "output_type": "display_data"
    },
    {
     "data": {
      "image/png": "[encoded data removed]",
      "text/plain": [
       "<Figure size 693.725x216 with 1 Axes>"
      ]
     },
     "metadata": {},
     "output_type": "display_data"
    }
   ],
   "source": [
    "#bar_chart('ASF') = Atlas Scaling Factor\n",
    "facet= sns.FacetGrid(df,hue=\"Group\", aspect=3)\n",
    "facet.map(sns.kdeplot,'ASF',shade= True)\n",
    "facet.set(xlim=(0, df['ASF'].max()))\n",
    "facet.add_legend()\n",
    "plt.xlim(0.5, 2)\n",
    "\n",
    "#eTIV = Estimated Total Intracranial Volume\n",
    "facet= sns.FacetGrid(df,hue=\"Group\", aspect=3)\n",
    "facet.map(sns.kdeplot,'eTIV',shade= True)\n",
    "facet.set(xlim=(0, df['eTIV'].max()))\n",
    "facet.add_legend()\n",
    "plt.xlim(900, 2100)\n",
    "\n",
    "#'nWBV' = Normalized Whole Brain Volume\n",
    "# Nondemented = 0, Demented =1\n",
    "facet= sns.FacetGrid(df,hue=\"Group\", aspect=3)\n",
    "facet.map(sns.kdeplot,'nWBV',shade= True)\n",
    "facet.set(xlim=(0, df['nWBV'].max()))\n",
    "facet.add_legend()\n",
    "plt.xlim(0.6,0.9)"
   ]
  },
  {
   "cell_type": "markdown",
   "id": "945435af",
   "metadata": {},
   "source": [
    "**The chart indicates that Nondemented group has higher brain volume ratio than Demented group. This is assumed to be because the diseases affect the brain to be shrinking its tissue."
   ]
  },
  {
   "cell_type": "code",
   "execution_count": 9,
   "id": "8fba43ad",
   "metadata": {},
   "outputs": [
    {
     "data": {
      "text/plain": [
       "(50.0, 100.0)"
      ]
     },
     "execution_count": 9,
     "metadata": {},
     "output_type": "execute_result"
    },
    {
     "data": {
      "image/png": "[encoded data removed]",
      "text/plain": [
       "<Figure size 693.725x216 with 1 Axes>"
      ]
     },
     "metadata": {},
     "output_type": "display_data"
    }
   ],
   "source": [
    "#AGE. Nondemented =0, Demented =0\n",
    "facet= sns.FacetGrid(df,hue=\"Group\", aspect=3)\n",
    "facet.map(sns.kdeplot,'Age',shade= True)\n",
    "facet.set(xlim=(0, df['Age'].max()))\n",
    "facet.add_legend()\n",
    "plt.xlim(50,100)"
   ]
  },
  {
   "cell_type": "markdown",
   "id": "4fd6b066",
   "metadata": {},
   "source": [
    "**There is a higher concentration of 70-80 years old in the Demented patient group than those in the nondemented patients. We guess patients who suffered from that kind of disease has lower survival rate so that there are a few of 90 years old."
   ]
  },
  {
   "cell_type": "code",
   "execution_count": 10,
   "id": "99ca592c",
   "metadata": {},
   "outputs": [
    {
     "data": {
      "text/plain": [
       "(0.0, 0.16)"
      ]
     },
     "execution_count": 10,
     "metadata": {},
     "output_type": "execute_result"
    },
    {
     "data": {
      "image/png": "[encoded data removed]",
      "text/plain": [
       "<Figure size 693.725x216 with 1 Axes>"
      ]
     },
     "metadata": {},
     "output_type": "display_data"
    }
   ],
   "source": [
    "# Nondemented = 0, Demented =1\n",
    "facet= sns.FacetGrid(df,hue=\"Group\", aspect=3)\n",
    "facet.map(sns.kdeplot,'EDUC',shade= True)\n",
    "facet.set(xlim=(df['EDUC'].min(), df['EDUC'].max()))\n",
    "facet.add_legend()\n",
    "plt.ylim(0, 0.16)"
   ]
  },
  {
   "cell_type": "markdown",
   "id": "ecbbf7bf",
   "metadata": {},
   "source": [
    "**Intermediate Result Summary\n",
    "\n",
    "1、Men are more likely with demented, an Alzheimer's Disease, than Women.\n",
    "\n",
    "2、Demented patients were less educated in terms of years of education.\n",
    "\n",
    "3、Nondemented group has higher brain volume than Demented group.\n",
    "\n",
    "4、Higher concentration of 70-80 years old in Demented group than those in the nondemented patients."
   ]
  },
  {
   "cell_type": "markdown",
   "id": "2812009b",
   "metadata": {},
   "source": [
    "# Data Preprocessing"
   ]
  },
  {
   "cell_type": "code",
   "execution_count": 11,
   "id": "e5b8714e",
   "metadata": {},
   "outputs": [
    {
     "data": {
      "text/plain": [
       "Subject ID    0\n",
       "Group         0\n",
       "MR Delay      0\n",
       "M/F           0\n",
       "Age           0\n",
       "EDUC          0\n",
       "SES           8\n",
       "MMSE          0\n",
       "CDR           0\n",
       "eTIV          0\n",
       "nWBV          0\n",
       "ASF           0\n",
       "dtype: int64"
      ]
     },
     "execution_count": 11,
     "metadata": {},
     "output_type": "execute_result"
    }
   ],
   "source": [
    "# Check missing values by each column\n",
    "pd.isnull(df).sum() "
   ]
  },
  {
   "cell_type": "markdown",
   "id": "5665f0d2",
   "metadata": {},
   "source": [
    "**The column, SES has 8 missing values"
   ]
  },
  {
   "cell_type": "code",
   "execution_count": 12,
   "id": "188f0c7e",
   "metadata": {},
   "outputs": [
    {
     "data": {
      "text/plain": [
       "Subject ID    0\n",
       "Group         0\n",
       "MR Delay      0\n",
       "M/F           0\n",
       "Age           0\n",
       "EDUC          0\n",
       "SES           0\n",
       "MMSE          0\n",
       "CDR           0\n",
       "eTIV          0\n",
       "nWBV          0\n",
       "ASF           0\n",
       "dtype: int64"
      ]
     },
     "execution_count": 12,
     "metadata": {},
     "output_type": "execute_result"
    }
   ],
   "source": [
    "# Dropped the 8 rows with missing values in the column, SES\n",
    "df_dropna = df.dropna(axis=0, how='any')\n",
    "pd.isnull(df_dropna).sum()"
   ]
  },
  {
   "cell_type": "code",
   "execution_count": 13,
   "id": "19011ff8",
   "metadata": {},
   "outputs": [
    {
     "data": {
      "text/plain": [
       "0    72\n",
       "1    70\n",
       "Name: Group, dtype: int64"
      ]
     },
     "execution_count": 13,
     "metadata": {},
     "output_type": "execute_result"
    }
   ],
   "source": [
    "df_dropna['Group'].value_counts()"
   ]
  },
  {
   "cell_type": "markdown",
   "id": "0c812c67",
   "metadata": {},
   "source": [
    "**Imputation"
   ]
  },
  {
   "cell_type": "code",
   "execution_count": 14,
   "id": "10d4525c",
   "metadata": {},
   "outputs": [
    {
     "data": {
      "image/png": "[encoded data removed]",
      "text/plain": [
       "<Figure size 432x288 with 1 Axes>"
      ]
     },
     "metadata": {},
     "output_type": "display_data"
    }
   ],
   "source": [
    "# Draw scatter plot between EDUC and SES\n",
    "x = df['EDUC']\n",
    "y = df['SES']\n",
    "\n",
    "ses_not_null_index = y[~y.isnull()].index\n",
    "x = x[ses_not_null_index]\n",
    "y = y[ses_not_null_index]\n",
    "\n",
    "# Draw trend line in red\n",
    "z = np.polyfit(x, y, 1)\n",
    "p = np.poly1d(z)\n",
    "plt.plot(x, y, 'go', x, p(x), \"r--\")\n",
    "plt.xlabel('Education Level(EDUC)')\n",
    "plt.ylabel('Social Economic Status(SES)')\n",
    "\n",
    "plt.show()"
   ]
  },
  {
   "cell_type": "code",
   "execution_count": 15,
   "id": "26a26df3",
   "metadata": {},
   "outputs": [
    {
     "data": {
      "text/plain": [
       "EDUC\n",
       "6     4.0\n",
       "8     5.0\n",
       "11    4.0\n",
       "12    3.0\n",
       "13    2.0\n",
       "14    3.0\n",
       "15    2.0\n",
       "16    2.0\n",
       "17    1.0\n",
       "18    2.0\n",
       "20    1.0\n",
       "23    1.0\n",
       "Name: SES, dtype: float64"
      ]
     },
     "execution_count": 15,
     "metadata": {},
     "output_type": "execute_result"
    }
   ],
   "source": [
    "df.groupby(['EDUC'])['SES'].median()"
   ]
  },
  {
   "cell_type": "code",
   "execution_count": 16,
   "id": "1cc807a2",
   "metadata": {},
   "outputs": [],
   "source": [
    "df[\"SES\"].fillna(df.groupby(\"EDUC\")[\"SES\"].transform(\"median\"), inplace=True)"
   ]
  },
  {
   "cell_type": "code",
   "execution_count": 17,
   "id": "816f1767",
   "metadata": {},
   "outputs": [
    {
     "data": {
      "text/plain": [
       "False    150\n",
       "Name: SES, dtype: int64"
      ]
     },
     "execution_count": 17,
     "metadata": {},
     "output_type": "execute_result"
    }
   ],
   "source": [
    "# Confirming there're no more missing values and all the 150 data were used.\n",
    "pd.isnull(df['SES']).value_counts()"
   ]
  },
  {
   "cell_type": "markdown",
   "id": "caafb3be",
   "metadata": {},
   "source": [
    "# Splitting Train, Test and Validation Sets"
   ]
  },
  {
   "cell_type": "code",
   "execution_count": 18,
   "id": "75470b31",
   "metadata": {},
   "outputs": [],
   "source": [
    "from sklearn.model_selection import train_test_split\n",
    "from sklearn import preprocessing\n",
    "from sklearn.preprocessing import MinMaxScaler \n",
    "from sklearn.model_selection import cross_val_score"
   ]
  },
  {
   "cell_type": "code",
   "execution_count": 19,
   "id": "6e7f8761",
   "metadata": {},
   "outputs": [],
   "source": [
    "# Dataset with imputation\n",
    "Y = df['Group'].values # Target for the model\n",
    "X = df[['M/F', 'Age', 'EDUC', 'SES', 'MMSE', 'eTIV', 'nWBV', 'ASF']] # Features we use\n",
    "\n",
    "# splitting into two sets\n",
    "X_trainval, X_test, Y_trainval, Y_test = train_test_split(X, Y,test_size=0.3, random_state=0)"
   ]
  },
  {
   "cell_type": "code",
   "execution_count": 20,
   "id": "fe2d8c8f",
   "metadata": {},
   "outputs": [
    {
     "data": {
      "text/plain": [
       "((105, 8), (45, 8))"
      ]
     },
     "execution_count": 20,
     "metadata": {},
     "output_type": "execute_result"
    }
   ],
   "source": [
    "X_trainval.shape,X_test.shape"
   ]
  },
  {
   "cell_type": "markdown",
   "id": "e5785353",
   "metadata": {},
   "source": [
    "# Random Forest Classifier"
   ]
  },
  {
   "cell_type": "code",
   "execution_count": 21,
   "id": "baf2bf2a",
   "metadata": {},
   "outputs": [],
   "source": [
    "from sklearn.ensemble import RandomForestClassifier\n",
    "from sklearn.metrics import confusion_matrix, accuracy_score, precision_score, recall_score, classification_report"
   ]
  },
  {
   "cell_type": "code",
   "execution_count": 22,
   "id": "4ab5a3dd",
   "metadata": {},
   "outputs": [
    {
     "name": "stdout",
     "output_type": "stream",
     "text": [
      "[1 0 1 0 0 0 1 1 0 1 1 0 0 0 0 1 0 0 0 0 0 1 1 0 0 0 0 0 1 0 0 0 0 1 1 1 1\n",
      " 0 1 1 0 0 1 0 1]\n"
     ]
    }
   ],
   "source": [
    "best_score = 0\n",
    "kfolds = 5\n",
    "acc = []\n",
    "\n",
    "for M in range(2, 15, 2): # combines M trees\n",
    "    for d in range(1, 9): # maximum number of features considered at each split\n",
    "        for m in range(1, 9): # maximum depth of the tree\n",
    "            # train the model\n",
    "            # n_jobs(4) is the number of parallel computing\n",
    "            forestModel = RandomForestClassifier(n_estimators=M, max_features=d, n_jobs=4,\n",
    "                                          max_depth=m, random_state=0)\n",
    "\n",
    "# Rebuild a model on the combined training and validation set        \n",
    "SelectedRFModel = RandomForestClassifier(n_estimators=M, max_features=d,max_depth=m, random_state=0).fit(X_trainval, Y_trainval)\n",
    "PredictedOutput = SelectedRFModel.predict(X_test)\n",
    "print(PredictedOutput)"
   ]
  },
  {
   "cell_type": "code",
   "execution_count": 23,
   "id": "8c9aec50",
   "metadata": {},
   "outputs": [
    {
     "data": {
      "text/plain": [
       "numpy.ndarray"
      ]
     },
     "execution_count": 23,
     "metadata": {},
     "output_type": "execute_result"
    }
   ],
   "source": [
    "type(PredictedOutput)"
   ]
  },
  {
   "cell_type": "code",
   "execution_count": 24,
   "id": "4c97247c",
   "metadata": {},
   "outputs": [
    {
     "name": "stdout",
     "output_type": "stream",
     "text": [
      "Feature importance: \n"
     ]
    },
    {
     "data": {
      "text/plain": [
       "array([['M/F', '0.04586437349907422'],\n",
       "       ['Age', '0.07647054324687183'],\n",
       "       ['EDUC', '0.061731426449940306'],\n",
       "       ['SES', '0.04373343311853867'],\n",
       "       ['MMSE', '0.4004537429509395'],\n",
       "       ['eTIV', '0.09151261158916804'],\n",
       "       ['nWBV', '0.15725572458332623'],\n",
       "       ['ASF', '0.12297814456214125']], dtype='<U32')"
      ]
     },
     "execution_count": 24,
     "metadata": {},
     "output_type": "execute_result"
    }
   ],
   "source": [
    "print(\"Feature importance: \")\n",
    "np.array([X.columns.values.tolist(), list(SelectedRFModel.feature_importances_)]).T"
   ]
  },
  {
   "cell_type": "code",
   "execution_count": 25,
   "id": "37363a07",
   "metadata": {},
   "outputs": [],
   "source": [
    "def plot_confusion_matrix(cm, savename, title='Confusion Matrix'):\n",
    "\n",
    "    plt.figure(figsize=(5, 5), dpi=100)\n",
    "    np.set_printoptions(precision=2)\n",
    "    ind_array = np.arange(len(classes))\n",
    "    x, y = np.meshgrid(ind_array, ind_array)\n",
    "    for x_val, y_val in zip(x.flatten(), y.flatten()):\n",
    "        c = cm[y_val][x_val]\n",
    "        if c > 0.001:\n",
    "            plt.text(x_val, y_val, \"%0.2f\" % (c,), color='red', fontsize=15, va='center', ha='center')\n",
    "            plt.imshow(cm, interpolation='nearest', cmap=plt.cm.binary)\n",
    "    plt.title(title)\n",
    "    plt.colorbar()\n",
    "    xlocations = np.array(range(len(classes)))\n",
    "    plt.xticks(xlocations, classes, rotation=90)\n",
    "    plt.yticks(xlocations, classes)\n",
    "    plt.ylabel('Actual label')\n",
    "    plt.xlabel('Predict label')\n",
    "    \n",
    "    # offset the tick\n",
    "    tick_marks = np.array(range(len(classes))) + 0.5\n",
    "    plt.gca().set_xticks(tick_marks, minor=True)\n",
    "    plt.gca().set_yticks(tick_marks, minor=True)\n",
    "    plt.gca().xaxis.set_ticks_position('none')\n",
    "    plt.gca().yaxis.set_ticks_position('none')\n",
    "    plt.grid(True, which='minor', linestyle='-')\n",
    "    plt.gcf().subplots_adjust(bottom=0.15)\n",
    "    \n",
    "    # show confusion matrix\n",
    "    plt.savefig(savename, format='png')\n",
    "    plt.show()"
   ]
  },
  {
   "cell_type": "code",
   "execution_count": 26,
   "id": "beb5010c",
   "metadata": {},
   "outputs": [],
   "source": [
    "classes=['Nondemented','Demented']"
   ]
  },
  {
   "cell_type": "code",
   "execution_count": 27,
   "id": "9f67b034",
   "metadata": {},
   "outputs": [
    {
     "data": {
      "image/png": "[encoded data removed]",
      "text/plain": [
       "<Figure size 500x500 with 2 Axes>"
      ]
     },
     "metadata": {},
     "output_type": "display_data"
    }
   ],
   "source": [
    "cm = confusion_matrix(Y_test, PredictedOutput)\n",
    "plot_confusion_matrix(cm, 'confusion_matrix.png', title='confusion matrix')"
   ]
  },
  {
   "cell_type": "code",
   "execution_count": 28,
   "id": "b7445410",
   "metadata": {},
   "outputs": [],
   "source": [
    "import pickle"
   ]
  },
  {
   "cell_type": "code",
   "execution_count": 29,
   "id": "c4da4beb",
   "metadata": {},
   "outputs": [],
   "source": [
    "# Make pickle file of our model\n",
    "filename = 'RFmodel.pkl'\n",
    "pickle.dump(SelectedRFModel, open(filename, \"wb\"))"
   ]
  },
  {
   "cell_type": "code",
   "execution_count": 30,
   "id": "a187f9b4",
   "metadata": {},
   "outputs": [],
   "source": [
    "load_model = pickle.load(open(filename,'rb'))"
   ]
  },
  {
   "cell_type": "code",
   "execution_count": 31,
   "id": "60d58347",
   "metadata": {},
   "outputs": [
    {
     "data": {
      "text/plain": [
       "array([1, 0, 1, 0, 0, 0, 1, 1, 0, 1, 1, 0, 0, 0, 0, 1, 0, 0, 0, 0, 0, 1,\n",
       "       1, 0, 0, 0, 0, 0, 1, 0, 0, 0, 0, 1, 1, 1, 1, 0, 1, 1, 0, 0, 1, 0,\n",
       "       1], dtype=int64)"
      ]
     },
     "execution_count": 31,
     "metadata": {},
     "output_type": "execute_result"
    }
   ],
   "source": [
    "load_model.predict(X_test)"
   ]
  },
  {
   "cell_type": "code",
   "execution_count": 32,
   "id": "d3503d0b",
   "metadata": {},
   "outputs": [
    {
     "data": {
      "text/html": [
       "<div>\n",
       "<style scoped>\n",
       "    .dataframe tbody tr th:only-of-type {\n",
       "        vertical-align: middle;\n",
       "    }\n",
       "\n",
       "    .dataframe tbody tr th {\n",
       "        vertical-align: top;\n",
       "    }\n",
       "\n",
       "    .dataframe thead th {\n",
       "        text-align: right;\n",
       "    }\n",
       "</style>\n",
       "<table border=\"1\" class=\"dataframe\">\n",
       "  <thead>\n",
       "    <tr style=\"text-align: right;\">\n",
       "      <th></th>\n",
       "      <th>M/F</th>\n",
       "      <th>Age</th>\n",
       "      <th>EDUC</th>\n",
       "      <th>SES</th>\n",
       "      <th>MMSE</th>\n",
       "      <th>eTIV</th>\n",
       "      <th>nWBV</th>\n",
       "      <th>ASF</th>\n",
       "    </tr>\n",
       "  </thead>\n",
       "  <tbody>\n",
       "    <tr>\n",
       "      <th>114</th>\n",
       "      <td>0</td>\n",
       "      <td>76</td>\n",
       "      <td>16</td>\n",
       "      <td>3.0</td>\n",
       "      <td>26.0</td>\n",
       "      <td>1391</td>\n",
       "      <td>0.705</td>\n",
       "      <td>1.262</td>\n",
       "    </tr>\n",
       "    <tr>\n",
       "      <th>62</th>\n",
       "      <td>0</td>\n",
       "      <td>66</td>\n",
       "      <td>18</td>\n",
       "      <td>2.0</td>\n",
       "      <td>30.0</td>\n",
       "      <td>1504</td>\n",
       "      <td>0.725</td>\n",
       "      <td>1.167</td>\n",
       "    </tr>\n",
       "    <tr>\n",
       "      <th>33</th>\n",
       "      <td>0</td>\n",
       "      <td>72</td>\n",
       "      <td>12</td>\n",
       "      <td>4.0</td>\n",
       "      <td>26.0</td>\n",
       "      <td>1453</td>\n",
       "      <td>0.777</td>\n",
       "      <td>1.208</td>\n",
       "    </tr>\n",
       "    <tr>\n",
       "      <th>107</th>\n",
       "      <td>0</td>\n",
       "      <td>65</td>\n",
       "      <td>12</td>\n",
       "      <td>2.0</td>\n",
       "      <td>30.0</td>\n",
       "      <td>1340</td>\n",
       "      <td>0.754</td>\n",
       "      <td>1.309</td>\n",
       "    </tr>\n",
       "    <tr>\n",
       "      <th>7</th>\n",
       "      <td>0</td>\n",
       "      <td>66</td>\n",
       "      <td>12</td>\n",
       "      <td>3.0</td>\n",
       "      <td>30.0</td>\n",
       "      <td>1447</td>\n",
       "      <td>0.769</td>\n",
       "      <td>1.213</td>\n",
       "    </tr>\n",
       "    <tr>\n",
       "      <th>100</th>\n",
       "      <td>0</td>\n",
       "      <td>73</td>\n",
       "      <td>11</td>\n",
       "      <td>4.0</td>\n",
       "      <td>30.0</td>\n",
       "      <td>1475</td>\n",
       "      <td>0.726</td>\n",
       "      <td>1.190</td>\n",
       "    </tr>\n",
       "    <tr>\n",
       "      <th>40</th>\n",
       "      <td>1</td>\n",
       "      <td>71</td>\n",
       "      <td>12</td>\n",
       "      <td>4.0</td>\n",
       "      <td>20.0</td>\n",
       "      <td>1461</td>\n",
       "      <td>0.724</td>\n",
       "      <td>1.202</td>\n",
       "    </tr>\n",
       "    <tr>\n",
       "      <th>86</th>\n",
       "      <td>1</td>\n",
       "      <td>70</td>\n",
       "      <td>16</td>\n",
       "      <td>1.0</td>\n",
       "      <td>25.0</td>\n",
       "      <td>1568</td>\n",
       "      <td>0.696</td>\n",
       "      <td>1.119</td>\n",
       "    </tr>\n",
       "    <tr>\n",
       "      <th>76</th>\n",
       "      <td>0</td>\n",
       "      <td>61</td>\n",
       "      <td>16</td>\n",
       "      <td>1.0</td>\n",
       "      <td>30.0</td>\n",
       "      <td>1513</td>\n",
       "      <td>0.771</td>\n",
       "      <td>1.160</td>\n",
       "    </tr>\n",
       "    <tr>\n",
       "      <th>71</th>\n",
       "      <td>1</td>\n",
       "      <td>78</td>\n",
       "      <td>12</td>\n",
       "      <td>4.0</td>\n",
       "      <td>21.0</td>\n",
       "      <td>1477</td>\n",
       "      <td>0.672</td>\n",
       "      <td>1.188</td>\n",
       "    </tr>\n",
       "    <tr>\n",
       "      <th>134</th>\n",
       "      <td>1</td>\n",
       "      <td>78</td>\n",
       "      <td>12</td>\n",
       "      <td>3.0</td>\n",
       "      <td>23.0</td>\n",
       "      <td>1491</td>\n",
       "      <td>0.710</td>\n",
       "      <td>1.177</td>\n",
       "    </tr>\n",
       "    <tr>\n",
       "      <th>51</th>\n",
       "      <td>0</td>\n",
       "      <td>79</td>\n",
       "      <td>18</td>\n",
       "      <td>2.0</td>\n",
       "      <td>29.0</td>\n",
       "      <td>1641</td>\n",
       "      <td>0.695</td>\n",
       "      <td>1.069</td>\n",
       "    </tr>\n",
       "    <tr>\n",
       "      <th>73</th>\n",
       "      <td>1</td>\n",
       "      <td>73</td>\n",
       "      <td>18</td>\n",
       "      <td>2.0</td>\n",
       "      <td>29.0</td>\n",
       "      <td>1548</td>\n",
       "      <td>0.773</td>\n",
       "      <td>1.134</td>\n",
       "    </tr>\n",
       "    <tr>\n",
       "      <th>54</th>\n",
       "      <td>1</td>\n",
       "      <td>61</td>\n",
       "      <td>18</td>\n",
       "      <td>1.0</td>\n",
       "      <td>30.0</td>\n",
       "      <td>1957</td>\n",
       "      <td>0.734</td>\n",
       "      <td>0.897</td>\n",
       "    </tr>\n",
       "    <tr>\n",
       "      <th>63</th>\n",
       "      <td>1</td>\n",
       "      <td>69</td>\n",
       "      <td>16</td>\n",
       "      <td>2.0</td>\n",
       "      <td>28.0</td>\n",
       "      <td>1848</td>\n",
       "      <td>0.737</td>\n",
       "      <td>0.950</td>\n",
       "    </tr>\n",
       "    <tr>\n",
       "      <th>37</th>\n",
       "      <td>0</td>\n",
       "      <td>77</td>\n",
       "      <td>16</td>\n",
       "      <td>2.0</td>\n",
       "      <td>29.0</td>\n",
       "      <td>1433</td>\n",
       "      <td>0.723</td>\n",
       "      <td>1.225</td>\n",
       "    </tr>\n",
       "    <tr>\n",
       "      <th>78</th>\n",
       "      <td>0</td>\n",
       "      <td>89</td>\n",
       "      <td>13</td>\n",
       "      <td>3.0</td>\n",
       "      <td>29.0</td>\n",
       "      <td>1154</td>\n",
       "      <td>0.750</td>\n",
       "      <td>1.521</td>\n",
       "    </tr>\n",
       "    <tr>\n",
       "      <th>90</th>\n",
       "      <td>1</td>\n",
       "      <td>81</td>\n",
       "      <td>11</td>\n",
       "      <td>4.0</td>\n",
       "      <td>28.0</td>\n",
       "      <td>1750</td>\n",
       "      <td>0.670</td>\n",
       "      <td>1.003</td>\n",
       "    </tr>\n",
       "    <tr>\n",
       "      <th>45</th>\n",
       "      <td>1</td>\n",
       "      <td>65</td>\n",
       "      <td>13</td>\n",
       "      <td>3.0</td>\n",
       "      <td>29.0</td>\n",
       "      <td>1362</td>\n",
       "      <td>0.837</td>\n",
       "      <td>1.289</td>\n",
       "    </tr>\n",
       "    <tr>\n",
       "      <th>16</th>\n",
       "      <td>0</td>\n",
       "      <td>61</td>\n",
       "      <td>16</td>\n",
       "      <td>3.0</td>\n",
       "      <td>30.0</td>\n",
       "      <td>1313</td>\n",
       "      <td>0.805</td>\n",
       "      <td>1.337</td>\n",
       "    </tr>\n",
       "    <tr>\n",
       "      <th>121</th>\n",
       "      <td>0</td>\n",
       "      <td>77</td>\n",
       "      <td>13</td>\n",
       "      <td>2.0</td>\n",
       "      <td>29.0</td>\n",
       "      <td>1351</td>\n",
       "      <td>0.769</td>\n",
       "      <td>1.299</td>\n",
       "    </tr>\n",
       "    <tr>\n",
       "      <th>66</th>\n",
       "      <td>1</td>\n",
       "      <td>66</td>\n",
       "      <td>15</td>\n",
       "      <td>2.0</td>\n",
       "      <td>25.0</td>\n",
       "      <td>1548</td>\n",
       "      <td>0.727</td>\n",
       "      <td>1.134</td>\n",
       "    </tr>\n",
       "    <tr>\n",
       "      <th>24</th>\n",
       "      <td>1</td>\n",
       "      <td>90</td>\n",
       "      <td>12</td>\n",
       "      <td>3.0</td>\n",
       "      <td>21.0</td>\n",
       "      <td>1307</td>\n",
       "      <td>0.679</td>\n",
       "      <td>1.342</td>\n",
       "    </tr>\n",
       "    <tr>\n",
       "      <th>8</th>\n",
       "      <td>0</td>\n",
       "      <td>78</td>\n",
       "      <td>16</td>\n",
       "      <td>2.0</td>\n",
       "      <td>29.0</td>\n",
       "      <td>1333</td>\n",
       "      <td>0.748</td>\n",
       "      <td>1.316</td>\n",
       "    </tr>\n",
       "    <tr>\n",
       "      <th>126</th>\n",
       "      <td>0</td>\n",
       "      <td>78</td>\n",
       "      <td>18</td>\n",
       "      <td>1.0</td>\n",
       "      <td>30.0</td>\n",
       "      <td>1243</td>\n",
       "      <td>0.748</td>\n",
       "      <td>1.412</td>\n",
       "    </tr>\n",
       "    <tr>\n",
       "      <th>22</th>\n",
       "      <td>0</td>\n",
       "      <td>60</td>\n",
       "      <td>18</td>\n",
       "      <td>1.0</td>\n",
       "      <td>30.0</td>\n",
       "      <td>1402</td>\n",
       "      <td>0.822</td>\n",
       "      <td>1.252</td>\n",
       "    </tr>\n",
       "    <tr>\n",
       "      <th>44</th>\n",
       "      <td>0</td>\n",
       "      <td>85</td>\n",
       "      <td>18</td>\n",
       "      <td>1.0</td>\n",
       "      <td>29.0</td>\n",
       "      <td>1264</td>\n",
       "      <td>0.701</td>\n",
       "      <td>1.388</td>\n",
       "    </tr>\n",
       "    <tr>\n",
       "      <th>97</th>\n",
       "      <td>0</td>\n",
       "      <td>67</td>\n",
       "      <td>14</td>\n",
       "      <td>4.0</td>\n",
       "      <td>30.0</td>\n",
       "      <td>1508</td>\n",
       "      <td>0.794</td>\n",
       "      <td>1.164</td>\n",
       "    </tr>\n",
       "    <tr>\n",
       "      <th>93</th>\n",
       "      <td>0</td>\n",
       "      <td>73</td>\n",
       "      <td>13</td>\n",
       "      <td>2.0</td>\n",
       "      <td>23.0</td>\n",
       "      <td>1536</td>\n",
       "      <td>0.725</td>\n",
       "      <td>1.142</td>\n",
       "    </tr>\n",
       "    <tr>\n",
       "      <th>26</th>\n",
       "      <td>0</td>\n",
       "      <td>88</td>\n",
       "      <td>12</td>\n",
       "      <td>4.0</td>\n",
       "      <td>30.0</td>\n",
       "      <td>1336</td>\n",
       "      <td>0.738</td>\n",
       "      <td>1.313</td>\n",
       "    </tr>\n",
       "    <tr>\n",
       "      <th>137</th>\n",
       "      <td>1</td>\n",
       "      <td>75</td>\n",
       "      <td>16</td>\n",
       "      <td>1.0</td>\n",
       "      <td>30.0</td>\n",
       "      <td>1891</td>\n",
       "      <td>0.709</td>\n",
       "      <td>0.928</td>\n",
       "    </tr>\n",
       "    <tr>\n",
       "      <th>84</th>\n",
       "      <td>1</td>\n",
       "      <td>82</td>\n",
       "      <td>15</td>\n",
       "      <td>3.0</td>\n",
       "      <td>29.0</td>\n",
       "      <td>1499</td>\n",
       "      <td>0.689</td>\n",
       "      <td>1.171</td>\n",
       "    </tr>\n",
       "    <tr>\n",
       "      <th>27</th>\n",
       "      <td>0</td>\n",
       "      <td>69</td>\n",
       "      <td>13</td>\n",
       "      <td>4.0</td>\n",
       "      <td>30.0</td>\n",
       "      <td>1359</td>\n",
       "      <td>0.789</td>\n",
       "      <td>1.291</td>\n",
       "    </tr>\n",
       "    <tr>\n",
       "      <th>127</th>\n",
       "      <td>0</td>\n",
       "      <td>73</td>\n",
       "      <td>12</td>\n",
       "      <td>2.0</td>\n",
       "      <td>19.0</td>\n",
       "      <td>1274</td>\n",
       "      <td>0.728</td>\n",
       "      <td>1.377</td>\n",
       "    </tr>\n",
       "    <tr>\n",
       "      <th>132</th>\n",
       "      <td>1</td>\n",
       "      <td>82</td>\n",
       "      <td>14</td>\n",
       "      <td>2.0</td>\n",
       "      <td>23.0</td>\n",
       "      <td>1514</td>\n",
       "      <td>0.678</td>\n",
       "      <td>1.159</td>\n",
       "    </tr>\n",
       "    <tr>\n",
       "      <th>59</th>\n",
       "      <td>0</td>\n",
       "      <td>83</td>\n",
       "      <td>13</td>\n",
       "      <td>2.0</td>\n",
       "      <td>27.0</td>\n",
       "      <td>1391</td>\n",
       "      <td>0.705</td>\n",
       "      <td>1.262</td>\n",
       "    </tr>\n",
       "    <tr>\n",
       "      <th>18</th>\n",
       "      <td>1</td>\n",
       "      <td>82</td>\n",
       "      <td>12</td>\n",
       "      <td>3.0</td>\n",
       "      <td>27.0</td>\n",
       "      <td>1420</td>\n",
       "      <td>0.713</td>\n",
       "      <td>1.236</td>\n",
       "    </tr>\n",
       "    <tr>\n",
       "      <th>83</th>\n",
       "      <td>0</td>\n",
       "      <td>71</td>\n",
       "      <td>18</td>\n",
       "      <td>2.0</td>\n",
       "      <td>30.0</td>\n",
       "      <td>1371</td>\n",
       "      <td>0.769</td>\n",
       "      <td>1.280</td>\n",
       "    </tr>\n",
       "    <tr>\n",
       "      <th>61</th>\n",
       "      <td>0</td>\n",
       "      <td>73</td>\n",
       "      <td>8</td>\n",
       "      <td>5.0</td>\n",
       "      <td>25.0</td>\n",
       "      <td>1151</td>\n",
       "      <td>0.743</td>\n",
       "      <td>1.525</td>\n",
       "    </tr>\n",
       "    <tr>\n",
       "      <th>92</th>\n",
       "      <td>0</td>\n",
       "      <td>76</td>\n",
       "      <td>12</td>\n",
       "      <td>3.0</td>\n",
       "      <td>27.0</td>\n",
       "      <td>1315</td>\n",
       "      <td>0.698</td>\n",
       "      <td>1.335</td>\n",
       "    </tr>\n",
       "    <tr>\n",
       "      <th>112</th>\n",
       "      <td>0</td>\n",
       "      <td>73</td>\n",
       "      <td>16</td>\n",
       "      <td>2.0</td>\n",
       "      <td>29.0</td>\n",
       "      <td>1123</td>\n",
       "      <td>0.786</td>\n",
       "      <td>1.563</td>\n",
       "    </tr>\n",
       "    <tr>\n",
       "      <th>2</th>\n",
       "      <td>0</td>\n",
       "      <td>88</td>\n",
       "      <td>18</td>\n",
       "      <td>3.0</td>\n",
       "      <td>28.0</td>\n",
       "      <td>1215</td>\n",
       "      <td>0.710</td>\n",
       "      <td>1.444</td>\n",
       "    </tr>\n",
       "    <tr>\n",
       "      <th>141</th>\n",
       "      <td>1</td>\n",
       "      <td>68</td>\n",
       "      <td>14</td>\n",
       "      <td>3.0</td>\n",
       "      <td>26.0</td>\n",
       "      <td>1444</td>\n",
       "      <td>0.778</td>\n",
       "      <td>1.216</td>\n",
       "    </tr>\n",
       "    <tr>\n",
       "      <th>43</th>\n",
       "      <td>0</td>\n",
       "      <td>82</td>\n",
       "      <td>16</td>\n",
       "      <td>3.0</td>\n",
       "      <td>29.0</td>\n",
       "      <td>1484</td>\n",
       "      <td>0.760</td>\n",
       "      <td>1.183</td>\n",
       "    </tr>\n",
       "    <tr>\n",
       "      <th>10</th>\n",
       "      <td>1</td>\n",
       "      <td>76</td>\n",
       "      <td>16</td>\n",
       "      <td>3.0</td>\n",
       "      <td>21.0</td>\n",
       "      <td>1602</td>\n",
       "      <td>0.697</td>\n",
       "      <td>1.096</td>\n",
       "    </tr>\n",
       "  </tbody>\n",
       "</table>\n",
       "</div>"
      ],
      "text/plain": [
       "     M/F  Age  EDUC  SES  MMSE  eTIV   nWBV    ASF\n",
       "114    0   76    16  3.0  26.0  1391  0.705  1.262\n",
       "62     0   66    18  2.0  30.0  1504  0.725  1.167\n",
       "33     0   72    12  4.0  26.0  1453  0.777  1.208\n",
       "107    0   65    12  2.0  30.0  1340  0.754  1.309\n",
       "7      0   66    12  3.0  30.0  1447  0.769  1.213\n",
       "100    0   73    11  4.0  30.0  1475  0.726  1.190\n",
       "40     1   71    12  4.0  20.0  1461  0.724  1.202\n",
       "86     1   70    16  1.0  25.0  1568  0.696  1.119\n",
       "76     0   61    16  1.0  30.0  1513  0.771  1.160\n",
       "71     1   78    12  4.0  21.0  1477  0.672  1.188\n",
       "134    1   78    12  3.0  23.0  1491  0.710  1.177\n",
       "51     0   79    18  2.0  29.0  1641  0.695  1.069\n",
       "73     1   73    18  2.0  29.0  1548  0.773  1.134\n",
       "54     1   61    18  1.0  30.0  1957  0.734  0.897\n",
       "63     1   69    16  2.0  28.0  1848  0.737  0.950\n",
       "37     0   77    16  2.0  29.0  1433  0.723  1.225\n",
       "78     0   89    13  3.0  29.0  1154  0.750  1.521\n",
       "90     1   81    11  4.0  28.0  1750  0.670  1.003\n",
       "45     1   65    13  3.0  29.0  1362  0.837  1.289\n",
       "16     0   61    16  3.0  30.0  1313  0.805  1.337\n",
       "121    0   77    13  2.0  29.0  1351  0.769  1.299\n",
       "66     1   66    15  2.0  25.0  1548  0.727  1.134\n",
       "24     1   90    12  3.0  21.0  1307  0.679  1.342\n",
       "8      0   78    16  2.0  29.0  1333  0.748  1.316\n",
       "126    0   78    18  1.0  30.0  1243  0.748  1.412\n",
       "22     0   60    18  1.0  30.0  1402  0.822  1.252\n",
       "44     0   85    18  1.0  29.0  1264  0.701  1.388\n",
       "97     0   67    14  4.0  30.0  1508  0.794  1.164\n",
       "93     0   73    13  2.0  23.0  1536  0.725  1.142\n",
       "26     0   88    12  4.0  30.0  1336  0.738  1.313\n",
       "137    1   75    16  1.0  30.0  1891  0.709  0.928\n",
       "84     1   82    15  3.0  29.0  1499  0.689  1.171\n",
       "27     0   69    13  4.0  30.0  1359  0.789  1.291\n",
       "127    0   73    12  2.0  19.0  1274  0.728  1.377\n",
       "132    1   82    14  2.0  23.0  1514  0.678  1.159\n",
       "59     0   83    13  2.0  27.0  1391  0.705  1.262\n",
       "18     1   82    12  3.0  27.0  1420  0.713  1.236\n",
       "83     0   71    18  2.0  30.0  1371  0.769  1.280\n",
       "61     0   73     8  5.0  25.0  1151  0.743  1.525\n",
       "92     0   76    12  3.0  27.0  1315  0.698  1.335\n",
       "112    0   73    16  2.0  29.0  1123  0.786  1.563\n",
       "2      0   88    18  3.0  28.0  1215  0.710  1.444\n",
       "141    1   68    14  3.0  26.0  1444  0.778  1.216\n",
       "43     0   82    16  3.0  29.0  1484  0.760  1.183\n",
       "10     1   76    16  3.0  21.0  1602  0.697  1.096"
      ]
     },
     "execution_count": 32,
     "metadata": {},
     "output_type": "execute_result"
    }
   ],
   "source": [
    "X_test"
   ]
  },
  {
   "cell_type": "code",
   "execution_count": 33,
   "id": "585de01c",
   "metadata": {},
   "outputs": [
    {
     "name": "stdout",
     "output_type": "stream",
     "text": [
      "\n",
      "Thanks for being a Gradio user! If you have questions or feedback, please join our Discord server and chat with us: https://discord.gg/feTf9x3ZSB\n",
      "Running on local URL:  http://127.0.0.1:7860\n",
      "\n",
      "To create a public link, set `share=True` in `launch()`.\n"
     ]
    },
    {
     "data": {
      "text/html": [
       "<div><iframe src=\"http://127.0.0.1:7860/\" width=\"100%\" height=\"500\" allow=\"autoplay; camera; microphone; clipboard-read; clipboard-write;\" frameborder=\"0\" allowfullscreen></iframe></div>"
      ],
      "text/plain": [
       "<IPython.core.display.HTML object>"
      ]
     },
     "metadata": {},
     "output_type": "display_data"
    },
    {
     "data": {
      "text/plain": []
     },
     "execution_count": 33,
     "metadata": {},
     "output_type": "execute_result"
    }
   ],
   "source": [
    "import gradio as gr\n",
    "def make_prediction(MF, Age, EDUC, SES, MMSE, eTIV, nWBV, ASF):\n",
    "    with open(\"RFModel.pkl\", \"rb\") as f:\n",
    "        SelectedRFModel  = pickle.load(f)\n",
    "        preds = SelectedRFModel.predict([[MF, Age, EDUC, SES, MMSE, eTIV, nWBV, ASF]])\n",
    "    if preds == 1:\n",
    "            return \"Demented\"\n",
    "    return \"Non-Demented\"\n",
    "\n",
    "#Creating the input component for Gradio\n",
    "\n",
    "MF = gr.Number(label = \"Enter the Gender of the Individual {1:Male, 0:Female}\")\n",
    "Age = gr.Number(label= \"Enter the AGE\")\n",
    "EDUC = gr.Number(label = \"Enter Education level\")\n",
    "SES = gr.Number(label = \"Enter Socio Economic Status\")\n",
    "MMSE = gr.Number(label = \"Enter MMSE number\")\n",
    "eTIV= gr.Number(label = \"Enter eTIV number\")\n",
    "nWBV= gr.Number(label = \"Enter nWBV number\")\n",
    "ASF = gr.Number(label = \"Enter ASF number\")\n",
    "\n",
    "# We create the output\n",
    "output = gr.Textbox()\n",
    "\n",
    "\n",
    "app = gr.Interface(fn = make_prediction, inputs=[MF, Age, EDUC, SES, MMSE, eTIV, nWBV, ASF], outputs=output)\n",
    "app.launch()"
   ]
  },
  {
   "cell_type": "code",
   "execution_count": 34,
   "id": "b148f45b",
   "metadata": {},
   "outputs": [
    {
     "name": "stdout",
     "output_type": "stream",
     "text": [
      "              precision    recall  f1-score   support\n",
      "\n",
      "           0       0.74      0.91      0.82        22\n",
      "           1       0.89      0.70      0.78        23\n",
      "\n",
      "    accuracy                           0.80        45\n",
      "   macro avg       0.81      0.80      0.80        45\n",
      "weighted avg       0.82      0.80      0.80        45\n",
      "\n"
     ]
    },
    {
     "name": "stderr",
     "output_type": "stream",
     "text": [
      "c:\\users\\hp\\appdata\\local\\programs\\python\\python39\\lib\\site-packages\\sklearn\\base.py:450: UserWarning: X does not have valid feature names, but RandomForestClassifier was fitted with feature names\n",
      "  warnings.warn(\n"
     ]
    }
   ],
   "source": [
    "print(classification_report(Y_test, PredictedOutput))"
   ]
  },
  {
   "cell_type": "code",
   "execution_count": null,
   "id": "07a68e2f",
   "metadata": {},
   "outputs": [],
   "source": []
  }
 ],
 "metadata": {
  "kernelspec": {
   "display_name": "Python 3 (ipykernel)",
   "language": "python",
   "name": "python3"
  },
  "language_info": {
   "codemirror_mode": {
    "name": "ipython",
    "version": 3
   },
   "file_extension": ".py",
   "mimetype": "text/x-python",
   "name": "python",
   "nbconvert_exporter": "python",
   "pygments_lexer": "ipython3",
   "version": "3.9.5"
  }
 },
 "nbformat": 4,
 "nbformat_minor": 5
}
